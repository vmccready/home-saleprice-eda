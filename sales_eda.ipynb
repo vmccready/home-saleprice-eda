{
 "cells": [
  {
   "cell_type": "markdown",
   "metadata": {},
   "source": [
    "# Exploration of Sales Data"
   ]
  },
  {
   "cell_type": "markdown",
   "metadata": {},
   "source": [
    "Snohomish County Parcel Search:  \n",
    "https://www.snoco.org/proptax/search.aspx?parcel_number= ***PARCELHERE***\n"
   ]
  },
  {
   "cell_type": "code",
   "execution_count": 177,
   "metadata": {},
   "outputs": [],
   "source": [
    "import pandas as pd\n",
    "import numpy as np\n",
    "import datetime\n",
    "import matplotlib.pyplot as plt\n",
    "import scipy.stats as stats"
   ]
  },
  {
   "cell_type": "markdown",
   "metadata": {},
   "source": [
    "### Data from Mongo Database"
   ]
  },
  {
   "cell_type": "code",
   "execution_count": 1,
   "metadata": {},
   "outputs": [],
   "source": [
    "from pymongo import MongoClient\n",
    "client = MongoClient('localhost', 27017)"
   ]
  },
  {
   "cell_type": "code",
   "execution_count": 160,
   "metadata": {},
   "outputs": [],
   "source": [
    "db = client['homesales_snohomish']\n",
    "sales = db.homesales"
   ]
  },
  {
   "cell_type": "code",
   "execution_count": 161,
   "metadata": {},
   "outputs": [],
   "source": [
    "rows = sales.find()\n",
    "home_sales = pd.DataFrame(list(rows))\n",
    "home_sales = home_sales.drop('_id', axis=1)"
   ]
  },
  {
   "cell_type": "markdown",
   "metadata": {},
   "source": [
    "### Data from csv"
   ]
  },
  {
   "cell_type": "code",
   "execution_count": 50,
   "metadata": {},
   "outputs": [],
   "source": [
    "home_sales1 = pd.read_csv(\n",
    "    'data/sales.csv',\n",
    "    index_col=0,\n",
    "    dtype={\n",
    "        'Parcel #': str,\n",
    "        'Year Built': str,\n",
    "        'Type': str,\n",
    "        'Quality/Grade': str,\n",
    "        'Address': str,\n",
    "        'City': str,\n",
    "        'Nbhd': str\n",
    "    }\n",
    ")"
   ]
  },
  {
   "cell_type": "markdown",
   "metadata": {},
   "source": [
    "## Initial inspection"
   ]
  },
  {
   "cell_type": "code",
   "execution_count": 162,
   "metadata": {
    "scrolled": false
   },
   "outputs": [
    {
     "data": {
      "text/html": [
       "<div>\n",
       "<style scoped>\n",
       "    .dataframe tbody tr th:only-of-type {\n",
       "        vertical-align: middle;\n",
       "    }\n",
       "\n",
       "    .dataframe tbody tr th {\n",
       "        vertical-align: top;\n",
       "    }\n",
       "\n",
       "    .dataframe thead th {\n",
       "        text-align: right;\n",
       "    }\n",
       "</style>\n",
       "<table border=\"1\" class=\"dataframe\">\n",
       "  <thead>\n",
       "    <tr style=\"text-align: right;\">\n",
       "      <th></th>\n",
       "      <th>Parcel #</th>\n",
       "      <th>Date of Sale</th>\n",
       "      <th>Sale Price</th>\n",
       "      <th>Lot Size</th>\n",
       "      <th>Year Built</th>\n",
       "      <th>Type</th>\n",
       "      <th>Quality/Grade</th>\n",
       "      <th>Sqft</th>\n",
       "      <th>Address</th>\n",
       "      <th>City</th>\n",
       "      <th>Nbhd</th>\n",
       "      <th>Use Code</th>\n",
       "    </tr>\n",
       "  </thead>\n",
       "  <tbody>\n",
       "    <tr>\n",
       "      <th>0</th>\n",
       "      <td>31051100400500</td>\n",
       "      <td>1/31/2020 12:00:00 AM</td>\n",
       "      <td>$2,500,000.00</td>\n",
       "      <td>5.44</td>\n",
       "      <td></td>\n",
       "      <td></td>\n",
       "      <td></td>\n",
       "      <td></td>\n",
       "      <td>21015 STATE ROUTE 9 NE</td>\n",
       "      <td>Arlington</td>\n",
       "      <td>Nbhd:5203000</td>\n",
       "      <td>521</td>\n",
       "    </tr>\n",
       "    <tr>\n",
       "      <th>1</th>\n",
       "      <td>00804500000100</td>\n",
       "      <td>1/31/2020 12:00:00 AM</td>\n",
       "      <td>$416,000.00</td>\n",
       "      <td>0.29</td>\n",
       "      <td>1993</td>\n",
       "      <td>Tri Level</td>\n",
       "      <td>Avg</td>\n",
       "      <td>1430</td>\n",
       "      <td>20911 66TH AVE NE</td>\n",
       "      <td>Arlington</td>\n",
       "      <td>Nbhd:2408000</td>\n",
       "      <td>111</td>\n",
       "    </tr>\n",
       "    <tr>\n",
       "      <th>2</th>\n",
       "      <td>00960009607300</td>\n",
       "      <td>1/31/2020 12:00:00 AM</td>\n",
       "      <td>$75,000.00</td>\n",
       "      <td>0</td>\n",
       "      <td>1996</td>\n",
       "      <td>Dbl Wide</td>\n",
       "      <td>V Good</td>\n",
       "      <td>1620</td>\n",
       "      <td>20227 80TH AVE NE SPC 73</td>\n",
       "      <td>Arlington</td>\n",
       "      <td>Nbhd:2408906</td>\n",
       "      <td>119</td>\n",
       "    </tr>\n",
       "    <tr>\n",
       "      <th>3</th>\n",
       "      <td>00874800005200</td>\n",
       "      <td>1/29/2020 12:00:00 AM</td>\n",
       "      <td>$419,000.00</td>\n",
       "      <td>0.14</td>\n",
       "      <td>2001</td>\n",
       "      <td>1 1/2 Sty</td>\n",
       "      <td>Avg</td>\n",
       "      <td>1813</td>\n",
       "      <td>18127 GREYWALLS DR</td>\n",
       "      <td>Arlington</td>\n",
       "      <td>Nbhd:2408000</td>\n",
       "      <td>111</td>\n",
       "    </tr>\n",
       "    <tr>\n",
       "      <th>4</th>\n",
       "      <td>00946600000300</td>\n",
       "      <td>1/29/2020 12:00:00 AM</td>\n",
       "      <td>$347,000.00</td>\n",
       "      <td>0.1166</td>\n",
       "      <td>2003</td>\n",
       "      <td>1 Sty</td>\n",
       "      <td>Avg-</td>\n",
       "      <td>1348</td>\n",
       "      <td>18722 35TH AVE NE</td>\n",
       "      <td></td>\n",
       "      <td>Nbhd:2408000</td>\n",
       "      <td>111</td>\n",
       "    </tr>\n",
       "  </tbody>\n",
       "</table>\n",
       "</div>"
      ],
      "text/plain": [
       "         Parcel #           Date of Sale     Sale Price Lot Size Year Built  \\\n",
       "0  31051100400500  1/31/2020 12:00:00 AM  $2,500,000.00     5.44              \n",
       "1  00804500000100  1/31/2020 12:00:00 AM    $416,000.00     0.29       1993   \n",
       "2  00960009607300  1/31/2020 12:00:00 AM     $75,000.00        0       1996   \n",
       "3  00874800005200  1/29/2020 12:00:00 AM    $419,000.00     0.14       2001   \n",
       "4  00946600000300  1/29/2020 12:00:00 AM    $347,000.00   0.1166       2003   \n",
       "\n",
       "        Type Quality/Grade  Sqft                   Address       City  \\\n",
       "0                                   21015 STATE ROUTE 9 NE  Arlington   \n",
       "1  Tri Level           Avg  1430         20911 66TH AVE NE  Arlington   \n",
       "2   Dbl Wide        V Good  1620  20227 80TH AVE NE SPC 73  Arlington   \n",
       "3  1 1/2 Sty           Avg  1813        18127 GREYWALLS DR  Arlington   \n",
       "4      1 Sty          Avg-  1348         18722 35TH AVE NE              \n",
       "\n",
       "           Nbhd Use Code  \n",
       "0  Nbhd:5203000      521  \n",
       "1  Nbhd:2408000      111  \n",
       "2  Nbhd:2408906      119  \n",
       "3  Nbhd:2408000      111  \n",
       "4  Nbhd:2408000      111  "
      ]
     },
     "execution_count": 162,
     "metadata": {},
     "output_type": "execute_result"
    }
   ],
   "source": [
    "home_sales.head()"
   ]
  },
  {
   "cell_type": "code",
   "execution_count": 163,
   "metadata": {},
   "outputs": [
    {
     "data": {
      "text/plain": [
       "(1244, 12)"
      ]
     },
     "execution_count": 163,
     "metadata": {},
     "output_type": "execute_result"
    }
   ],
   "source": [
    "home_sales.shape"
   ]
  },
  {
   "cell_type": "code",
   "execution_count": 165,
   "metadata": {},
   "outputs": [
    {
     "data": {
      "text/plain": [
       "1156"
      ]
     },
     "execution_count": 165,
     "metadata": {},
     "output_type": "execute_result"
    }
   ],
   "source": [
    "len(home_sales['Parcel #'].unique())"
   ]
  },
  {
   "cell_type": "markdown",
   "metadata": {},
   "source": [
    "## Data Cleaning"
   ]
  },
  {
   "cell_type": "markdown",
   "metadata": {},
   "source": [
    "#### Dates "
   ]
  },
  {
   "cell_type": "code",
   "execution_count": 166,
   "metadata": {},
   "outputs": [
    {
     "data": {
      "text/plain": [
       "datetime.datetime(2020, 1, 31, 12, 0)"
      ]
     },
     "execution_count": 166,
     "metadata": {},
     "output_type": "execute_result"
    }
   ],
   "source": [
    "# ********** Clean Dates ***************\n",
    "datetime.datetime.strptime(\n",
    "    home_sales['Date of Sale'][0], '%m/%d/%Y %H:%M:%S %p')"
   ]
  },
  {
   "cell_type": "code",
   "execution_count": 167,
   "metadata": {},
   "outputs": [],
   "source": [
    "def date_clean(d):\n",
    "    return datetime.datetime.strptime(d, '%m/%d/%Y %H:%M:%S %p')"
   ]
  },
  {
   "cell_type": "code",
   "execution_count": 168,
   "metadata": {},
   "outputs": [],
   "source": [
    "home_sales['Date of Sale'] = home_sales['Date of Sale'].map(date_clean)"
   ]
  },
  {
   "cell_type": "markdown",
   "metadata": {},
   "source": [
    "#### Price"
   ]
  },
  {
   "cell_type": "code",
   "execution_count": 169,
   "metadata": {},
   "outputs": [],
   "source": [
    "# ********** Clean Sale Price **********\n",
    "def sale_price_clean(price):\n",
    "    return float(price.strip('$').replace(',',''))"
   ]
  },
  {
   "cell_type": "code",
   "execution_count": 170,
   "metadata": {},
   "outputs": [
    {
     "data": {
      "text/plain": [
       "2500000.0"
      ]
     },
     "execution_count": 170,
     "metadata": {},
     "output_type": "execute_result"
    }
   ],
   "source": [
    "sale_price_clean(home_sales['Sale Price'][0])"
   ]
  },
  {
   "cell_type": "code",
   "execution_count": 171,
   "metadata": {},
   "outputs": [],
   "source": [
    "home_sales['Sale Price'] = home_sales['Sale Price'].map(sale_price_clean)"
   ]
  },
  {
   "cell_type": "markdown",
   "metadata": {},
   "source": [
    "#### Use Code, Sqft"
   ]
  },
  {
   "cell_type": "code",
   "execution_count": 187,
   "metadata": {},
   "outputs": [],
   "source": [
    "home_sales['Use Code'] = home_sales['Use Code'].map(int)"
   ]
  },
  {
   "cell_type": "code",
   "execution_count": 206,
   "metadata": {},
   "outputs": [],
   "source": [
    "def sqft_clean(sqft):\n",
    "    if sqft:\n",
    "        return int(sqft)\n",
    "    else:\n",
    "        return 0"
   ]
  },
  {
   "cell_type": "code",
   "execution_count": 207,
   "metadata": {
    "scrolled": true
   },
   "outputs": [],
   "source": [
    "home_sales['Sqft'] = home_sales['Sqft'].map(sqft_clean)"
   ]
  },
  {
   "cell_type": "markdown",
   "metadata": {},
   "source": [
    "#### Neighborhood"
   ]
  },
  {
   "cell_type": "code",
   "execution_count": 196,
   "metadata": {},
   "outputs": [
    {
     "data": {
      "text/plain": [
       "'5203000'"
      ]
     },
     "execution_count": 196,
     "metadata": {},
     "output_type": "execute_result"
    }
   ],
   "source": [
    "home_sales['Nbhd'][0].split(':')[1]"
   ]
  },
  {
   "cell_type": "code",
   "execution_count": 197,
   "metadata": {},
   "outputs": [],
   "source": [
    "home_sales['Nbhd'] = home_sales['Nbhd'].map(lambda n: n.split(':')[1])"
   ]
  },
  {
   "cell_type": "code",
   "execution_count": null,
   "metadata": {},
   "outputs": [],
   "source": []
  },
  {
   "cell_type": "code",
   "execution_count": 188,
   "metadata": {
    "scrolled": true
   },
   "outputs": [
    {
     "data": {
      "text/plain": [
       "array([110, 111, 112, 116, 117, 118, 119, 122, 123, 124, 130, 131, 136,\n",
       "       141, 142, 143, 145, 179, 183, 185, 186, 188, 198, 344, 349, 502,\n",
       "       519, 521, 539, 581, 599, 629, 637, 639, 641, 651, 691, 699, 744,\n",
       "       830, 860, 910, 911, 912, 914, 940])"
      ]
     },
     "execution_count": 188,
     "metadata": {},
     "output_type": "execute_result"
    }
   ],
   "source": [
    "np.sort(home_sales['Use Code'].unique())"
   ]
  },
  {
   "cell_type": "code",
   "execution_count": 86,
   "metadata": {},
   "outputs": [],
   "source": [
    "home_sales[home_sales['Use Code']==118].iloc[0];"
   ]
  },
  {
   "cell_type": "code",
   "execution_count": 66,
   "metadata": {},
   "outputs": [],
   "source": [
    "use_codes = {\n",
    "    111: 'SFR - Detached (One Structure)',\n",
    "    112: 'SFR - Detached (Two Structures)',\n",
    "    116: 'Common Wall Single Family Residences',\n",
    "    118: 'Manufactured Home / Owned Site',\n",
    "    119: 'Manufactured Home / Mobile Home Park',\n",
    "    122: 'Two Family Residence (Duplex)',\n",
    "    123: 'Three Family Residence (Tri-Plex)',\n",
    "    124: 'Four Family Residence (Four Plex)',\n",
    "    141: 'SFR / Condominium - Detached',\n",
    "    142: 'SFR / Condominium – Common Wall',\n",
    "    186: 'Septic System & Well',\n",
    "    198: 'Vacation Cabins',\n",
    "    521: 'Lumber & Other Building Materials',\n",
    "    641: 'Automobile Repair & Services',\n",
    "    910: 'Undeveloped (Vacant) Land',\n",
    "    913: 'Recreational Lot',\n",
    "    940: 'Open Space General',\n",
    "    941: 'Open Space General Agriculture Conservation'  \n",
    "}"
   ]
  },
  {
   "cell_type": "code",
   "execution_count": 189,
   "metadata": {
    "scrolled": true
   },
   "outputs": [
    {
     "data": {
      "text/plain": [
       "Use Code\n",
       "110      4\n",
       "111    678\n",
       "112     12\n",
       "116     22\n",
       "117      4\n",
       "118     35\n",
       "119     36\n",
       "122      9\n",
       "123      1\n",
       "124      3\n",
       "130      1\n",
       "131      2\n",
       "136      1\n",
       "141     37\n",
       "142     13\n",
       "143    100\n",
       "145     21\n",
       "179      1\n",
       "183      2\n",
       "185      1\n",
       "186      2\n",
       "188      1\n",
       "198      1\n",
       "344      1\n",
       "349      1\n",
       "502      1\n",
       "519      1\n",
       "521      1\n",
       "539      2\n",
       "581      2\n",
       "599      3\n",
       "629      1\n",
       "637      1\n",
       "639      3\n",
       "641      3\n",
       "651      1\n",
       "691      1\n",
       "699      1\n",
       "744      1\n",
       "830      2\n",
       "860      1\n",
       "910    203\n",
       "911      2\n",
       "912      1\n",
       "914     22\n",
       "940      2\n",
       "Name: Use Code, dtype: int64"
      ]
     },
     "execution_count": 189,
     "metadata": {},
     "output_type": "execute_result"
    }
   ],
   "source": [
    "home_sales.groupby('Use Code')['Use Code'].count()"
   ]
  },
  {
   "cell_type": "code",
   "execution_count": 181,
   "metadata": {},
   "outputs": [],
   "source": [
    "sfr_codes = [111,112,113,116,118,141,142]"
   ]
  },
  {
   "cell_type": "code",
   "execution_count": 186,
   "metadata": {},
   "outputs": [
    {
     "data": {
      "text/plain": [
       "str"
      ]
     },
     "execution_count": 186,
     "metadata": {},
     "output_type": "execute_result"
    }
   ],
   "source": [
    "type(home_sales['Use Code'][0])"
   ]
  },
  {
   "cell_type": "code",
   "execution_count": 209,
   "metadata": {},
   "outputs": [],
   "source": [
    "single_family = home_sales[home_sales['Use Code'].isin(sfr_codes)].copy()"
   ]
  },
  {
   "cell_type": "code",
   "execution_count": 210,
   "metadata": {},
   "outputs": [
    {
     "data": {
      "text/html": [
       "<div>\n",
       "<style scoped>\n",
       "    .dataframe tbody tr th:only-of-type {\n",
       "        vertical-align: middle;\n",
       "    }\n",
       "\n",
       "    .dataframe tbody tr th {\n",
       "        vertical-align: top;\n",
       "    }\n",
       "\n",
       "    .dataframe thead th {\n",
       "        text-align: right;\n",
       "    }\n",
       "</style>\n",
       "<table border=\"1\" class=\"dataframe\">\n",
       "  <thead>\n",
       "    <tr style=\"text-align: right;\">\n",
       "      <th></th>\n",
       "      <th>Parcel #</th>\n",
       "      <th>Date of Sale</th>\n",
       "      <th>Sale Price</th>\n",
       "      <th>Lot Size</th>\n",
       "      <th>Year Built</th>\n",
       "      <th>Type</th>\n",
       "      <th>Quality/Grade</th>\n",
       "      <th>Sqft</th>\n",
       "      <th>Address</th>\n",
       "      <th>City</th>\n",
       "      <th>Nbhd</th>\n",
       "      <th>Use Code</th>\n",
       "    </tr>\n",
       "  </thead>\n",
       "  <tbody>\n",
       "    <tr>\n",
       "      <th>1</th>\n",
       "      <td>00804500000100</td>\n",
       "      <td>2020-01-31 12:00:00</td>\n",
       "      <td>416000.0</td>\n",
       "      <td>0.29</td>\n",
       "      <td>1993</td>\n",
       "      <td>Tri Level</td>\n",
       "      <td>Avg</td>\n",
       "      <td>1430</td>\n",
       "      <td>20911 66TH AVE NE</td>\n",
       "      <td>Arlington</td>\n",
       "      <td>2408000</td>\n",
       "      <td>111</td>\n",
       "    </tr>\n",
       "    <tr>\n",
       "      <th>3</th>\n",
       "      <td>00874800005200</td>\n",
       "      <td>2020-01-29 12:00:00</td>\n",
       "      <td>419000.0</td>\n",
       "      <td>0.14</td>\n",
       "      <td>2001</td>\n",
       "      <td>1 1/2 Sty</td>\n",
       "      <td>Avg</td>\n",
       "      <td>1813</td>\n",
       "      <td>18127 GREYWALLS DR</td>\n",
       "      <td>Arlington</td>\n",
       "      <td>2408000</td>\n",
       "      <td>111</td>\n",
       "    </tr>\n",
       "    <tr>\n",
       "      <th>4</th>\n",
       "      <td>00946600000300</td>\n",
       "      <td>2020-01-29 12:00:00</td>\n",
       "      <td>347000.0</td>\n",
       "      <td>0.1166</td>\n",
       "      <td>2003</td>\n",
       "      <td>1 Sty</td>\n",
       "      <td>Avg-</td>\n",
       "      <td>1348</td>\n",
       "      <td>18722 35TH AVE NE</td>\n",
       "      <td></td>\n",
       "      <td>2408000</td>\n",
       "      <td>111</td>\n",
       "    </tr>\n",
       "  </tbody>\n",
       "</table>\n",
       "</div>"
      ],
      "text/plain": [
       "         Parcel #        Date of Sale  Sale Price Lot Size Year Built  \\\n",
       "1  00804500000100 2020-01-31 12:00:00    416000.0     0.29       1993   \n",
       "3  00874800005200 2020-01-29 12:00:00    419000.0     0.14       2001   \n",
       "4  00946600000300 2020-01-29 12:00:00    347000.0   0.1166       2003   \n",
       "\n",
       "        Type Quality/Grade  Sqft             Address       City     Nbhd  \\\n",
       "1  Tri Level           Avg  1430   20911 66TH AVE NE  Arlington  2408000   \n",
       "3  1 1/2 Sty           Avg  1813  18127 GREYWALLS DR  Arlington  2408000   \n",
       "4      1 Sty          Avg-  1348   18722 35TH AVE NE             2408000   \n",
       "\n",
       "   Use Code  \n",
       "1       111  \n",
       "3       111  \n",
       "4       111  "
      ]
     },
     "execution_count": 210,
     "metadata": {},
     "output_type": "execute_result"
    }
   ],
   "source": [
    "single_family.head(3)"
   ]
  },
  {
   "cell_type": "code",
   "execution_count": 211,
   "metadata": {},
   "outputs": [
    {
     "data": {
      "text/plain": [
       "array(['Arlington', '', 'Bothell', 'Brier', 'Darrington', 'Edmonds',\n",
       "       'Everett', 'Lynnwood', 'Goldbar', 'Granite Falls', 'Lake Stevens',\n",
       "       'Marysville', 'Stanwood', 'Mill Creek', 'Monroe',\n",
       "       'Mountlake Terrace', 'MUKILTEO', 'Snohomish', 'Sultan', 'Woodway'],\n",
       "      dtype=object)"
      ]
     },
     "execution_count": 211,
     "metadata": {},
     "output_type": "execute_result"
    }
   ],
   "source": [
    "home_sales['City'].unique()"
   ]
  },
  {
   "cell_type": "markdown",
   "metadata": {},
   "source": [
    "## Exploration"
   ]
  },
  {
   "cell_type": "code",
   "execution_count": 212,
   "metadata": {},
   "outputs": [],
   "source": [
    "single_family['price/sqft'] = single_family['Sale Price']/single_family['Sqft']"
   ]
  },
  {
   "cell_type": "code",
   "execution_count": 213,
   "metadata": {
    "scrolled": true
   },
   "outputs": [
    {
     "data": {
      "text/html": [
       "<div>\n",
       "<style scoped>\n",
       "    .dataframe tbody tr th:only-of-type {\n",
       "        vertical-align: middle;\n",
       "    }\n",
       "\n",
       "    .dataframe tbody tr th {\n",
       "        vertical-align: top;\n",
       "    }\n",
       "\n",
       "    .dataframe thead th {\n",
       "        text-align: right;\n",
       "    }\n",
       "</style>\n",
       "<table border=\"1\" class=\"dataframe\">\n",
       "  <thead>\n",
       "    <tr style=\"text-align: right;\">\n",
       "      <th></th>\n",
       "      <th>Sale Price</th>\n",
       "      <th>Sqft</th>\n",
       "      <th>price/sqft</th>\n",
       "    </tr>\n",
       "    <tr>\n",
       "      <th>Use Code</th>\n",
       "      <th></th>\n",
       "      <th></th>\n",
       "      <th></th>\n",
       "    </tr>\n",
       "  </thead>\n",
       "  <tbody>\n",
       "    <tr>\n",
       "      <th>111</th>\n",
       "      <td>528686.848083</td>\n",
       "      <td>2042.334808</td>\n",
       "      <td>275.057222</td>\n",
       "    </tr>\n",
       "    <tr>\n",
       "      <th>112</th>\n",
       "      <td>497040.833333</td>\n",
       "      <td>1616.750000</td>\n",
       "      <td>374.845767</td>\n",
       "    </tr>\n",
       "    <tr>\n",
       "      <th>116</th>\n",
       "      <td>442816.590909</td>\n",
       "      <td>1827.636364</td>\n",
       "      <td>249.339527</td>\n",
       "    </tr>\n",
       "    <tr>\n",
       "      <th>118</th>\n",
       "      <td>287774.914286</td>\n",
       "      <td>1442.371429</td>\n",
       "      <td>212.097453</td>\n",
       "    </tr>\n",
       "    <tr>\n",
       "      <th>141</th>\n",
       "      <td>478729.324324</td>\n",
       "      <td>1932.162162</td>\n",
       "      <td>251.360112</td>\n",
       "    </tr>\n",
       "    <tr>\n",
       "      <th>142</th>\n",
       "      <td>394692.307692</td>\n",
       "      <td>1513.538462</td>\n",
       "      <td>264.165175</td>\n",
       "    </tr>\n",
       "  </tbody>\n",
       "</table>\n",
       "</div>"
      ],
      "text/plain": [
       "             Sale Price         Sqft  price/sqft\n",
       "Use Code                                        \n",
       "111       528686.848083  2042.334808  275.057222\n",
       "112       497040.833333  1616.750000  374.845767\n",
       "116       442816.590909  1827.636364  249.339527\n",
       "118       287774.914286  1442.371429  212.097453\n",
       "141       478729.324324  1932.162162  251.360112\n",
       "142       394692.307692  1513.538462  264.165175"
      ]
     },
     "execution_count": 213,
     "metadata": {},
     "output_type": "execute_result"
    }
   ],
   "source": [
    "single_family.groupby('Use Code').mean()"
   ]
  },
  {
   "cell_type": "code",
   "execution_count": 214,
   "metadata": {},
   "outputs": [],
   "source": [
    "fonts = {'fontsize':16, 'fontfamily':'serif'}"
   ]
  },
  {
   "cell_type": "code",
   "execution_count": 217,
   "metadata": {},
   "outputs": [
    {
     "data": {
      "image/png": "[encoded data removed]",
      "text/plain": [
       "<Figure size 576x432 with 1 Axes>"
      ]
     },
     "metadata": {
      "needs_background": "light"
     },
     "output_type": "display_data"
    }
   ],
   "source": [
    "fig, ax = plt.subplots(figsize=(8,6))\n",
    "\n",
    "mu = single_family['Sale Price'].mean()\n",
    "std = single_family['Sale Price'].std()\n",
    "\n",
    "\n",
    "n, bins, patches = ax.hist(single_family['Sale Price'], bins=40,density=True, color='#66c2a4')\n",
    "fit = stats.norm(loc=mu, scale=std).pdf(bins)\n",
    "ax.plot(bins,fit,'--')\n",
    "ax.set_xlabel('Price $', **fonts)\n",
    "ax.set_ylabel('Probability density', **fonts)\n",
    "ax.set_title('Histogram of Properties by Sale Price')\n",
    "ax.ticklabel_format(style='plain')\n",
    "fig.tight_layout()\n",
    "plt.show()"
   ]
  },
  {
   "cell_type": "code",
   "execution_count": 146,
   "metadata": {},
   "outputs": [],
   "source": []
  },
  {
   "cell_type": "code",
   "execution_count": null,
   "metadata": {},
   "outputs": [],
   "source": []
  },
  {
   "cell_type": "code",
   "execution_count": null,
   "metadata": {},
   "outputs": [],
   "source": []
  }
 ],
 "metadata": {
  "kernelspec": {
   "display_name": "Python 3",
   "language": "python",
   "name": "python3"
  },
  "language_info": {
   "codemirror_mode": {
    "name": "ipython",
    "version": 3
   },
   "file_extension": ".py",
   "mimetype": "text/x-python",
   "name": "python",
   "nbconvert_exporter": "python",
   "pygments_lexer": "ipython3",
   "version": "3.7.7"
  }
 },
 "nbformat": 4,
 "nbformat_minor": 4
}
