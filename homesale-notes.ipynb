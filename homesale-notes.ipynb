{
 "cells": [
  {
   "cell_type": "markdown",
   "metadata": {},
   "source": [
    "# Home Sales Notebook"
   ]
  },
  {
   "cell_type": "code",
   "execution_count": null,
   "metadata": {},
   "outputs": [],
   "source": [
    "\n"
   ]
  },
  {
   "cell_type": "code",
   "execution_count": 183,
   "metadata": {},
   "outputs": [],
   "source": [
    "#Cities in Snohomish\n",
    "snohomish_cities = [\n",
    "    'Arlington', \n",
    "    'Bothell',\n",
    "    'Brier',\n",
    "    'Darrington',\n",
    "    'Edmonds',\n",
    "    'Everett',\n",
    "    'Gold Bar',\n",
    "    'Granite Falls',\n",
    "    'Index',\n",
    "    'Lake Stevens',\n",
    "    'Lynnwood',\n",
    "    'Marysville',\n",
    "    'Mill Creek',\n",
    "    'Monroe',\n",
    "    'Mountlake Terrace',\n",
    "    'Mukilteo',\n",
    "    'Snohomish',\n",
    "    'Stanwood',\n",
    "    'Sultan',\n",
    "    'Woodway']"
   ]
  },
  {
   "cell_type": "code",
   "execution_count": 184,
   "metadata": {},
   "outputs": [],
   "source": [
    "import warnings\n",
    "warnings.filterwarnings('ignore')"
   ]
  },
  {
   "cell_type": "code",
   "execution_count": 185,
   "metadata": {},
   "outputs": [],
   "source": [
    "from pymongo import MongoClient\n",
    "client = MongoClient('localhost', 27017)\n",
    "import pprint\n",
    "\n",
    "import copy\n",
    "import pandas as pd\n",
    "import numpy as np\n",
    "import random\n",
    "\n",
    "# Requests sends and recieves HTTP requests.\n",
    "import requests\n",
    "import time\n",
    "\n",
    "# Beautiful Soup parses HTML documents in python.\n",
    "from bs4 import BeautifulSoup\n",
    "\n",
    "from datetime import date"
   ]
  },
  {
   "cell_type": "markdown",
   "metadata": {},
   "source": [
    "## create Mongo Database for scraped webpages"
   ]
  },
  {
   "cell_type": "code",
   "execution_count": 186,
   "metadata": {},
   "outputs": [],
   "source": [
    "db = client['homesales_snohomish']\n",
    "sales = db.sales"
   ]
  },
  {
   "cell_type": "code",
   "execution_count": 198,
   "metadata": {},
   "outputs": [],
   "source": [
    "# get website\n",
    "sale_search_url = 'http://www.snoco.org/app4/sas/assessor/services/salessearch2.aspx?TextBox1={}&TextBox12=&DropDownList3=&DropDownList1=&DropDownList2=&TextBox2=&TextBox3=&TextBox4=&TextBox5=&TextBox8=&TextBox9=&TextBox10={}%2F{}%2F{}&TextBox11={}%2F{}%2F{}'\n",
    "\n",
    "def get_sales(city, start_date, end_date):\n",
    "    # Return search URL with given parameters\n",
    "    # Parameters:\n",
    "    # city: str - city to search\n",
    "    # start_date: date\n",
    "    sale_search_url = 'http://www.snoco.org/app4/sas/assessor/services/salessearch2.aspx?TextBox1={city}&TextBox12=&DropDownList3=&DropDownList1=&DropDownList2=&TextBox2=&TextBox3=&TextBox4=&TextBox5=&TextBox8=&TextBox9=&TextBox10={s_m}%2F{s_d}%2F{s_y}&TextBox11={e_m}%2F{e_d}%2F{e_y}'\n",
    "    search_term = sale_search_url.format(\n",
    "        city=city, \n",
    "        s_m=start_date.month, s_d=start_date.day, s_y=start_date.year,\n",
    "        e_m=end_date.month, e_d=end_date.day, e_y=end_date.year)\n",
    "    return search_term\n",
    "\n"
   ]
  },
  {
   "cell_type": "code",
   "execution_count": 199,
   "metadata": {},
   "outputs": [
    {
     "name": "stdout",
     "output_type": "stream",
     "text": [
      "http://www.snoco.org/app4/sas/assessor/services/salessearch2.aspx?TextBox1=Lynnwood&TextBox12=&DropDownList3=&DropDownList1=&DropDownList2=&TextBox2=&TextBox3=&TextBox4=&TextBox5=&TextBox8=&TextBox9=&TextBox10=1%2F1%2F2020&TextBox11=1%2F31%2F2020\n"
     ]
    }
   ],
   "source": [
    "print(get_sales(\n",
    "    'Lynnwood', \n",
    "    date(2020, 1, 1), \n",
    "    date(2020, 1, 31)\n",
    "))"
   ]
  },
  {
   "cell_type": "code",
   "execution_count": 188,
   "metadata": {},
   "outputs": [],
   "source": [
    "r = requests.get(get_sales(\n",
    "    'Lynwood', \n",
    "    date(2020, 1, 1), \n",
    "    date(2020, 1, 31)\n",
    "))\n"
   ]
  },
  {
   "cell_type": "code",
   "execution_count": 189,
   "metadata": {},
   "outputs": [
    {
     "data": {
      "text/plain": [
       "200"
      ]
     },
     "execution_count": 189,
     "metadata": {},
     "output_type": "execute_result"
    }
   ],
   "source": [
    "r.status_code"
   ]
  },
  {
   "cell_type": "code",
   "execution_count": 195,
   "metadata": {},
   "outputs": [],
   "source": [
    "r.content;"
   ]
  },
  {
   "cell_type": "code",
   "execution_count": null,
   "metadata": {},
   "outputs": [],
   "source": []
  },
  {
   "cell_type": "code",
   "execution_count": 190,
   "metadata": {},
   "outputs": [],
   "source": [
    "soup = BeautifulSoup(r.content, \"html\")"
   ]
  },
  {
   "cell_type": "code",
   "execution_count": 197,
   "metadata": {
    "scrolled": false
   },
   "outputs": [],
   "source": [
    "# print(soup.prettify)"
   ]
  },
  {
   "cell_type": "code",
   "execution_count": 191,
   "metadata": {},
   "outputs": [
    {
     "name": "stdout",
     "output_type": "stream",
     "text": [
      "<title>\r\n",
      "\tSearch for Property Sales\r\n",
      "</title>\n"
     ]
    }
   ],
   "source": [
    "print(soup.title)"
   ]
  },
  {
   "cell_type": "code",
   "execution_count": 192,
   "metadata": {},
   "outputs": [],
   "source": [
    "# select the table\n",
    "table = soup.find(\"table\", {\"id\": \"GridView1\"})"
   ]
  },
  {
   "cell_type": "code",
   "execution_count": 193,
   "metadata": {},
   "outputs": [
    {
     "ename": "AttributeError",
     "evalue": "'NoneType' object has no attribute 'find_all'",
     "output_type": "error",
     "traceback": [
      "\u001b[0;31m---------------------------------------------------------------------------\u001b[0m",
      "\u001b[0;31mAttributeError\u001b[0m                            Traceback (most recent call last)",
      "\u001b[0;32m<ipython-input-193-fe81343ac98d>\u001b[0m in \u001b[0;36m<module>\u001b[0;34m\u001b[0m\n\u001b[0;32m----> 1\u001b[0;31m \u001b[0mrows\u001b[0m \u001b[0;34m=\u001b[0m \u001b[0mtable\u001b[0m\u001b[0;34m.\u001b[0m\u001b[0mfind_all\u001b[0m\u001b[0;34m(\u001b[0m\u001b[0;34m\"tr\"\u001b[0m\u001b[0;34m,\u001b[0m \u001b[0mrecursive\u001b[0m\u001b[0;34m=\u001b[0m\u001b[0;32mFalse\u001b[0m\u001b[0;34m)\u001b[0m\u001b[0;34m\u001b[0m\u001b[0;34m\u001b[0m\u001b[0m\n\u001b[0m",
      "\u001b[0;31mAttributeError\u001b[0m: 'NoneType' object has no attribute 'find_all'"
     ]
    }
   ],
   "source": [
    "rows = table.find_all(\"tr\", recursive=False)"
   ]
  },
  {
   "cell_type": "code",
   "execution_count": 104,
   "metadata": {},
   "outputs": [],
   "source": [
    "# ****** DO NOT CHANGE ********\n",
    "empty_row = {\n",
    "    \"Parcel #\": None, \n",
    "    \"Date of Sale\": None, \n",
    "    \"Sale Price\": None, \n",
    "    \"Lot Size\": None,\n",
    "    \"Year Built\": None,\n",
    "    \"Type\": None,\n",
    "    \"Quality/Grade\": None,\n",
    "    \"Sq.ft.\": None,\n",
    "    \"Address\": None,\n",
    "    \"City\": None,\n",
    "    \"Nbhd\": None,\n",
    "    \"Use Code\": None\n",
    "}"
   ]
  },
  {
   "cell_type": "code",
   "execution_count": 133,
   "metadata": {},
   "outputs": [
    {
     "data": {
      "text/plain": [
       "<a href=\"https://www.snoco.org/proptax/search.aspx?parcel_number=31051100400500            \" style=\"color:#000066;\" target=\" blank\">31051100400500            </a>"
      ]
     },
     "execution_count": 133,
     "metadata": {},
     "output_type": "execute_result"
    }
   ],
   "source": [
    "row = rows[1]\n",
    "columns = row.find_all(\"td\")\n",
    "columns[1].a"
   ]
  },
  {
   "cell_type": "code",
   "execution_count": 136,
   "metadata": {},
   "outputs": [],
   "source": [
    "# Create an entry \n",
    "new_row = copy.copy(empty_row)\n",
    "row = rows[1]\n",
    "columns = row.find_all(\"td\")\n",
    "new_row['Parcel #'] = columns[1].a.text.strip()\n",
    "new_row['Date of Sale'] = columns[2].text.strip()\n",
    "new_row['Sale Price'] = columns[3].text.strip()\n",
    "new_row['Lot Size'] = columns[4].text.strip()\n",
    "new_row['Year Built'] = columns[5].text.strip()\n",
    "new_row['Type'] = columns[6].text.strip()\n",
    "new_row['Quality/Grade'] = columns[7].text.strip()\n",
    "new_row['Sq.ft.'] = columns[8].text.strip()\n",
    "new_row['Address'] = columns[9].text.strip()\n",
    "new_row['City'] = columns[10].text.strip()\n",
    "new_row['Nbhd'] = columns[11].text.strip()\n",
    "new_row['Use Code'] = columns[12].text.strip()\n"
   ]
  },
  {
   "cell_type": "code",
   "execution_count": 137,
   "metadata": {},
   "outputs": [
    {
     "data": {
      "text/plain": [
       "{'Parcel #': 31051100400500,\n",
       " 'Date of Sale': '1/31/2020 12:00:00 AM',\n",
       " 'Sale Price': '$2,500,000.00',\n",
       " 'Lot Size': 5.44,\n",
       " 'Year Built': '',\n",
       " 'Type': '',\n",
       " 'Quality/Grade': '',\n",
       " 'Sq.ft.': '',\n",
       " 'Address': '21015 STATE ROUTE 9 NE',\n",
       " 'City': 'Arlington',\n",
       " 'Nbhd': 'Nbhd:5203000',\n",
       " 'Use Code': 521}"
      ]
     },
     "execution_count": 137,
     "metadata": {},
     "output_type": "execute_result"
    }
   ],
   "source": [
    "new_row"
   ]
  },
  {
   "cell_type": "code",
   "execution_count": null,
   "metadata": {},
   "outputs": [],
   "source": []
  },
  {
   "cell_type": "markdown",
   "metadata": {},
   "source": [
    "### Month iterator"
   ]
  },
  {
   "cell_type": "code",
   "execution_count": 140,
   "metadata": {},
   "outputs": [],
   "source": [
    "# Create month iterator\n",
    "\n",
    "months = []\n",
    "from pandas.tseries.offsets import MonthEnd\n",
    "\n",
    "for beg in pd.date_range('2020-01-01', '2020-12-1', freq='MS'):\n",
    "    months.append((\n",
    "        date.fromisoformat( beg.strftime(\"%Y-%m-%d\") ), \n",
    "        date.fromisoformat( (beg + MonthEnd(1)).strftime(\"%Y-%m-%d\")) ))\n",
    "    "
   ]
  },
  {
   "cell_type": "code",
   "execution_count": 141,
   "metadata": {
    "collapsed": true
   },
   "outputs": [
    {
     "data": {
      "text/plain": [
       "[(datetime.date(2020, 1, 1), datetime.date(2020, 1, 31)),\n",
       " (datetime.date(2020, 2, 1), datetime.date(2020, 2, 29)),\n",
       " (datetime.date(2020, 3, 1), datetime.date(2020, 3, 31)),\n",
       " (datetime.date(2020, 4, 1), datetime.date(2020, 4, 30)),\n",
       " (datetime.date(2020, 5, 1), datetime.date(2020, 5, 31)),\n",
       " (datetime.date(2020, 6, 1), datetime.date(2020, 6, 30)),\n",
       " (datetime.date(2020, 7, 1), datetime.date(2020, 7, 31)),\n",
       " (datetime.date(2020, 8, 1), datetime.date(2020, 8, 31)),\n",
       " (datetime.date(2020, 9, 1), datetime.date(2020, 9, 30)),\n",
       " (datetime.date(2020, 10, 1), datetime.date(2020, 10, 31)),\n",
       " (datetime.date(2020, 11, 1), datetime.date(2020, 11, 30)),\n",
       " (datetime.date(2020, 12, 1), datetime.date(2020, 12, 31))]"
      ]
     },
     "execution_count": 141,
     "metadata": {},
     "output_type": "execute_result"
    }
   ],
   "source": [
    "months"
   ]
  },
  {
   "cell_type": "code",
   "execution_count": 145,
   "metadata": {},
   "outputs": [
    {
     "data": {
      "text/plain": [
       "2020"
      ]
     },
     "execution_count": 145,
     "metadata": {},
     "output_type": "execute_result"
    }
   ],
   "source": [
    "months[0][0].year"
   ]
  },
  {
   "cell_type": "markdown",
   "metadata": {},
   "source": [
    "## Loop through cities and date range"
   ]
  },
  {
   "cell_type": "code",
   "execution_count": 157,
   "metadata": {},
   "outputs": [],
   "source": [
    "\n",
    "headers = {\"User-Agent\":\"Mozilla/5.0 (Windows NT 10.0; Win64; x64; rv:66.0) Gecko/20100101 Firefox/66.0\", \"Accept-Encoding\":\"gzip, deflate\", \"Accept\":\"text/html,application/xhtml+xml,application/xml;q=0.9,*/*;q=0.8\", \"DNT\":\"1\",\"Connection\":\"close\", \"Upgrade-Insecure-Requests\":\"1\"}"
   ]
  },
  {
   "cell_type": "code",
   "execution_count": 148,
   "metadata": {},
   "outputs": [],
   "source": [
    "all_rows = []"
   ]
  },
  {
   "cell_type": "code",
   "execution_count": 150,
   "metadata": {},
   "outputs": [
    {
     "ename": "AttributeError",
     "evalue": "'NoneType' object has no attribute 'find_all'",
     "output_type": "error",
     "traceback": [
      "\u001b[0;31m---------------------------------------------------------------------------\u001b[0m",
      "\u001b[0;31mAttributeError\u001b[0m                            Traceback (most recent call last)",
      "\u001b[0;32m<ipython-input-150-0186813af55e>\u001b[0m in \u001b[0;36m<module>\u001b[0;34m\u001b[0m\n\u001b[1;32m      7\u001b[0m         \u001b[0;31m# select the table\u001b[0m\u001b[0;34m\u001b[0m\u001b[0;34m\u001b[0m\u001b[0;34m\u001b[0m\u001b[0m\n\u001b[1;32m      8\u001b[0m         \u001b[0mtable\u001b[0m \u001b[0;34m=\u001b[0m \u001b[0msoup\u001b[0m\u001b[0;34m.\u001b[0m\u001b[0mfind\u001b[0m\u001b[0;34m(\u001b[0m\u001b[0;34m\"table\"\u001b[0m\u001b[0;34m,\u001b[0m \u001b[0;34m{\u001b[0m\u001b[0;34m\"id\"\u001b[0m\u001b[0;34m:\u001b[0m \u001b[0;34m\"GridView1\"\u001b[0m\u001b[0;34m}\u001b[0m\u001b[0;34m)\u001b[0m\u001b[0;34m\u001b[0m\u001b[0;34m\u001b[0m\u001b[0m\n\u001b[0;32m----> 9\u001b[0;31m         \u001b[0mrows\u001b[0m \u001b[0;34m=\u001b[0m \u001b[0mtable\u001b[0m\u001b[0;34m.\u001b[0m\u001b[0mfind_all\u001b[0m\u001b[0;34m(\u001b[0m\u001b[0;34m\"tr\"\u001b[0m\u001b[0;34m,\u001b[0m \u001b[0mrecursive\u001b[0m\u001b[0;34m=\u001b[0m\u001b[0;32mFalse\u001b[0m\u001b[0;34m)\u001b[0m\u001b[0;34m\u001b[0m\u001b[0;34m\u001b[0m\u001b[0m\n\u001b[0m\u001b[1;32m     10\u001b[0m \u001b[0;34m\u001b[0m\u001b[0m\n\u001b[1;32m     11\u001b[0m         \u001b[0;31m# loop through entries on page\u001b[0m\u001b[0;34m\u001b[0m\u001b[0;34m\u001b[0m\u001b[0;34m\u001b[0m\u001b[0m\n",
      "\u001b[0;31mAttributeError\u001b[0m: 'NoneType' object has no attribute 'find_all'"
     ]
    }
   ],
   "source": [
    "for city in snohomish_cities:\n",
    "    for month in months:\n",
    "        # Get info for each city and month\n",
    "        print(f\"Getting {city} sales for {month[0]} to {month[1]}\")\n",
    "        start = time.time()\n",
    "#         r = requests.get(get_sales(city, month[0], month[1]))\n",
    "        soup = BeautifulSoup(r.content, \"html\")\n",
    "        delay = time.time() - start\n",
    "        \n",
    "        # select the table\n",
    "        table = soup.find(\"table\", {\"id\": \"GridView1\"})\n",
    "        rows = table.find_all(\"tr\", recursive=False)\n",
    "        \n",
    "        # loop through entries on page\n",
    "        for row in rows[1:]:\n",
    "            new_row = copy.copy(empty_row)\n",
    "            columns = row.find_all(\"td\")\n",
    "            new_row['Parcel #'] = columns[1].a.text.strip()\n",
    "            new_row['Date of Sale'] = columns[2].text.strip()\n",
    "            new_row['Sale Price'] = columns[3].text.strip()\n",
    "            new_row['Lot Size'] = columns[4].text.strip()\n",
    "            new_row['Year Built'] = columns[5].text.strip()\n",
    "            new_row['Type'] = columns[6].text.strip()\n",
    "            new_row['Quality/Grade'] = columns[7].text.strip()\n",
    "            new_row['Sqft'] = columns[8].text.strip()\n",
    "            new_row['Address'] = columns[9].text.strip()\n",
    "            new_row['City'] = columns[10].text.strip()\n",
    "            new_row['Nbhd'] = columns[11].text.strip()\n",
    "            new_row['Use Code'] = columns[12].text.strip()\n",
    "            all_rows.append(new_row)\n",
    "        \n",
    "        # timer between request\n",
    "        time.sleep(random.uniform(2, 4) * delay)\n",
    "\n",
    "            "
   ]
  },
  {
   "cell_type": "code",
   "execution_count": 152,
   "metadata": {},
   "outputs": [
    {
     "data": {
      "text/plain": [
       "520"
      ]
     },
     "execution_count": 152,
     "metadata": {},
     "output_type": "execute_result"
    }
   ],
   "source": [
    "len(all_rows)"
   ]
  },
  {
   "cell_type": "code",
   "execution_count": 179,
   "metadata": {},
   "outputs": [],
   "source": [
    "all_rows;"
   ]
  },
  {
   "cell_type": "code",
   "execution_count": 161,
   "metadata": {},
   "outputs": [],
   "source": [
    "rows_cp = all_rows.copy()"
   ]
  },
  {
   "cell_type": "code",
   "execution_count": 178,
   "metadata": {},
   "outputs": [],
   "source": [
    "pd.DataFrame(rows_cp).to_csv('sales.csv')"
   ]
  },
  {
   "cell_type": "code",
   "execution_count": 166,
   "metadata": {},
   "outputs": [],
   "source": [
    "for row in rows_cp:\n",
    "    row['Sqft'] = row.pop('Sq.ft.', '')\n",
    "    \n",
    "    sales.insert_one(row)"
   ]
  },
  {
   "cell_type": "code",
   "execution_count": 168,
   "metadata": {},
   "outputs": [],
   "source": [
    "rows = sales.find()\n",
    "home_sales = pd.DataFrame(list(rows))"
   ]
  },
  {
   "cell_type": "code",
   "execution_count": 170,
   "metadata": {},
   "outputs": [
    {
     "data": {
      "text/html": [
       "<div>\n",
       "<style scoped>\n",
       "    .dataframe tbody tr th:only-of-type {\n",
       "        vertical-align: middle;\n",
       "    }\n",
       "\n",
       "    .dataframe tbody tr th {\n",
       "        vertical-align: top;\n",
       "    }\n",
       "\n",
       "    .dataframe thead th {\n",
       "        text-align: right;\n",
       "    }\n",
       "</style>\n",
       "<table border=\"1\" class=\"dataframe\">\n",
       "  <thead>\n",
       "    <tr style=\"text-align: right;\">\n",
       "      <th></th>\n",
       "      <th>Parcel #</th>\n",
       "      <th>Date of Sale</th>\n",
       "      <th>Sale Price</th>\n",
       "      <th>Lot Size</th>\n",
       "      <th>Year Built</th>\n",
       "      <th>Type</th>\n",
       "      <th>Quality/Grade</th>\n",
       "      <th>Address</th>\n",
       "      <th>City</th>\n",
       "      <th>Nbhd</th>\n",
       "      <th>Use Code</th>\n",
       "      <th>Sqft</th>\n",
       "    </tr>\n",
       "  </thead>\n",
       "  <tbody>\n",
       "    <tr>\n",
       "      <th>0</th>\n",
       "      <td>31051100400500</td>\n",
       "      <td>1/31/2020 12:00:00 AM</td>\n",
       "      <td>$2,500,000.00</td>\n",
       "      <td>5.44</td>\n",
       "      <td></td>\n",
       "      <td></td>\n",
       "      <td></td>\n",
       "      <td>21015 STATE ROUTE 9 NE</td>\n",
       "      <td>Arlington</td>\n",
       "      <td>Nbhd:5203000</td>\n",
       "      <td>521</td>\n",
       "      <td></td>\n",
       "    </tr>\n",
       "    <tr>\n",
       "      <th>1</th>\n",
       "      <td>00804500000100</td>\n",
       "      <td>1/31/2020 12:00:00 AM</td>\n",
       "      <td>$416,000.00</td>\n",
       "      <td>0.29</td>\n",
       "      <td>1993</td>\n",
       "      <td>Tri Level</td>\n",
       "      <td>Avg</td>\n",
       "      <td>20911 66TH AVE NE</td>\n",
       "      <td>Arlington</td>\n",
       "      <td>Nbhd:2408000</td>\n",
       "      <td>111</td>\n",
       "      <td>1430</td>\n",
       "    </tr>\n",
       "    <tr>\n",
       "      <th>2</th>\n",
       "      <td>00960009607300</td>\n",
       "      <td>1/31/2020 12:00:00 AM</td>\n",
       "      <td>$75,000.00</td>\n",
       "      <td>0</td>\n",
       "      <td>1996</td>\n",
       "      <td>Dbl Wide</td>\n",
       "      <td>V Good</td>\n",
       "      <td>20227 80TH AVE NE SPC 73</td>\n",
       "      <td>Arlington</td>\n",
       "      <td>Nbhd:2408906</td>\n",
       "      <td>119</td>\n",
       "      <td>1620</td>\n",
       "    </tr>\n",
       "    <tr>\n",
       "      <th>3</th>\n",
       "      <td>00874800005200</td>\n",
       "      <td>1/29/2020 12:00:00 AM</td>\n",
       "      <td>$419,000.00</td>\n",
       "      <td>0.14</td>\n",
       "      <td>2001</td>\n",
       "      <td>1 1/2 Sty</td>\n",
       "      <td>Avg</td>\n",
       "      <td>18127 GREYWALLS DR</td>\n",
       "      <td>Arlington</td>\n",
       "      <td>Nbhd:2408000</td>\n",
       "      <td>111</td>\n",
       "      <td>1813</td>\n",
       "    </tr>\n",
       "    <tr>\n",
       "      <th>4</th>\n",
       "      <td>00946600000300</td>\n",
       "      <td>1/29/2020 12:00:00 AM</td>\n",
       "      <td>$347,000.00</td>\n",
       "      <td>0.1166</td>\n",
       "      <td>2003</td>\n",
       "      <td>1 Sty</td>\n",
       "      <td>Avg-</td>\n",
       "      <td>18722 35TH AVE NE</td>\n",
       "      <td></td>\n",
       "      <td>Nbhd:2408000</td>\n",
       "      <td>111</td>\n",
       "      <td>1348</td>\n",
       "    </tr>\n",
       "    <tr>\n",
       "      <th>...</th>\n",
       "      <td>...</td>\n",
       "      <td>...</td>\n",
       "      <td>...</td>\n",
       "      <td>...</td>\n",
       "      <td>...</td>\n",
       "      <td>...</td>\n",
       "      <td>...</td>\n",
       "      <td>...</td>\n",
       "      <td>...</td>\n",
       "      <td>...</td>\n",
       "      <td>...</td>\n",
       "      <td>...</td>\n",
       "    </tr>\n",
       "    <tr>\n",
       "      <th>515</th>\n",
       "      <td>32063200300100</td>\n",
       "      <td>3/12/2020 12:00:00 AM</td>\n",
       "      <td>$475,000.00</td>\n",
       "      <td>1.18</td>\n",
       "      <td>1935</td>\n",
       "      <td>1 Sty</td>\n",
       "      <td>Avg</td>\n",
       "      <td>11923 240TH ST NE</td>\n",
       "      <td>Arlington</td>\n",
       "      <td>Nbhd:4610000</td>\n",
       "      <td>111</td>\n",
       "      <td>1216</td>\n",
       "    </tr>\n",
       "    <tr>\n",
       "      <th>516</th>\n",
       "      <td>31052100305500</td>\n",
       "      <td>3/4/2020 12:00:00 AM</td>\n",
       "      <td>$1,400,000.00</td>\n",
       "      <td>0.16</td>\n",
       "      <td></td>\n",
       "      <td></td>\n",
       "      <td></td>\n",
       "      <td>17319 SMOKEY POINT BLVD</td>\n",
       "      <td>Arlington</td>\n",
       "      <td>Nbhd:5204000</td>\n",
       "      <td>641</td>\n",
       "      <td></td>\n",
       "    </tr>\n",
       "    <tr>\n",
       "      <th>517</th>\n",
       "      <td>00455400701100</td>\n",
       "      <td>3/3/2020 12:00:00 AM</td>\n",
       "      <td>$712,000.00</td>\n",
       "      <td>0.21</td>\n",
       "      <td></td>\n",
       "      <td></td>\n",
       "      <td></td>\n",
       "      <td>609 1ST AVE</td>\n",
       "      <td>Arlington</td>\n",
       "      <td>Nbhd:5203000</td>\n",
       "      <td>124</td>\n",
       "      <td></td>\n",
       "    </tr>\n",
       "    <tr>\n",
       "      <th>518</th>\n",
       "      <td>00960000303000</td>\n",
       "      <td>3/2/2020 12:00:00 AM</td>\n",
       "      <td>$500.00</td>\n",
       "      <td>0</td>\n",
       "      <td>1984</td>\n",
       "      <td>Sgl Wide</td>\n",
       "      <td>Fair</td>\n",
       "      <td>6206 188TH ST NE SPC 30</td>\n",
       "      <td>Arlington</td>\n",
       "      <td>Nbhd:2408901</td>\n",
       "      <td>119</td>\n",
       "      <td>924</td>\n",
       "    </tr>\n",
       "    <tr>\n",
       "      <th>519</th>\n",
       "      <td>00659300002400</td>\n",
       "      <td>3/1/2020 12:00:00 AM</td>\n",
       "      <td>$494,000.00</td>\n",
       "      <td>0.5</td>\n",
       "      <td>1978</td>\n",
       "      <td>1 Sty B</td>\n",
       "      <td>Avg</td>\n",
       "      <td>25300 MOUNTAIN DR</td>\n",
       "      <td>Arlington</td>\n",
       "      <td>Nbhd:2104000</td>\n",
       "      <td>111</td>\n",
       "      <td>2820</td>\n",
       "    </tr>\n",
       "  </tbody>\n",
       "</table>\n",
       "<p>520 rows × 12 columns</p>\n",
       "</div>"
      ],
      "text/plain": [
       "           Parcel #           Date of Sale     Sale Price Lot Size Year Built  \\\n",
       "0    31051100400500  1/31/2020 12:00:00 AM  $2,500,000.00     5.44              \n",
       "1    00804500000100  1/31/2020 12:00:00 AM    $416,000.00     0.29       1993   \n",
       "2    00960009607300  1/31/2020 12:00:00 AM     $75,000.00        0       1996   \n",
       "3    00874800005200  1/29/2020 12:00:00 AM    $419,000.00     0.14       2001   \n",
       "4    00946600000300  1/29/2020 12:00:00 AM    $347,000.00   0.1166       2003   \n",
       "..              ...                    ...            ...      ...        ...   \n",
       "515  32063200300100  3/12/2020 12:00:00 AM    $475,000.00     1.18       1935   \n",
       "516  31052100305500   3/4/2020 12:00:00 AM  $1,400,000.00     0.16              \n",
       "517  00455400701100   3/3/2020 12:00:00 AM    $712,000.00     0.21              \n",
       "518  00960000303000   3/2/2020 12:00:00 AM        $500.00        0       1984   \n",
       "519  00659300002400   3/1/2020 12:00:00 AM    $494,000.00      0.5       1978   \n",
       "\n",
       "          Type Quality/Grade                   Address       City  \\\n",
       "0                               21015 STATE ROUTE 9 NE  Arlington   \n",
       "1    Tri Level           Avg         20911 66TH AVE NE  Arlington   \n",
       "2     Dbl Wide        V Good  20227 80TH AVE NE SPC 73  Arlington   \n",
       "3    1 1/2 Sty           Avg        18127 GREYWALLS DR  Arlington   \n",
       "4        1 Sty          Avg-         18722 35TH AVE NE              \n",
       "..         ...           ...                       ...        ...   \n",
       "515      1 Sty           Avg         11923 240TH ST NE  Arlington   \n",
       "516                            17319 SMOKEY POINT BLVD  Arlington   \n",
       "517                                        609 1ST AVE  Arlington   \n",
       "518   Sgl Wide          Fair   6206 188TH ST NE SPC 30  Arlington   \n",
       "519    1 Sty B           Avg         25300 MOUNTAIN DR  Arlington   \n",
       "\n",
       "             Nbhd Use Code  Sqft  \n",
       "0    Nbhd:5203000      521        \n",
       "1    Nbhd:2408000      111  1430  \n",
       "2    Nbhd:2408906      119  1620  \n",
       "3    Nbhd:2408000      111  1813  \n",
       "4    Nbhd:2408000      111  1348  \n",
       "..            ...      ...   ...  \n",
       "515  Nbhd:4610000      111  1216  \n",
       "516  Nbhd:5204000      641        \n",
       "517  Nbhd:5203000      124        \n",
       "518  Nbhd:2408901      119   924  \n",
       "519  Nbhd:2104000      111  2820  \n",
       "\n",
       "[520 rows x 12 columns]"
      ]
     },
     "execution_count": 170,
     "metadata": {},
     "output_type": "execute_result"
    }
   ],
   "source": [
    "home_sales.drop('_id', axis=1)"
   ]
  },
  {
   "cell_type": "code",
   "execution_count": null,
   "metadata": {},
   "outputs": [],
   "source": []
  }
 ],
 "metadata": {
  "kernelspec": {
   "display_name": "Python 3",
   "language": "python",
   "name": "python3"
  },
  "language_info": {
   "codemirror_mode": {
    "name": "ipython",
    "version": 3
   },
   "file_extension": ".py",
   "mimetype": "text/x-python",
   "name": "python",
   "nbconvert_exporter": "python",
   "pygments_lexer": "ipython3",
   "version": "3.7.7"
  }
 },
 "nbformat": 4,
 "nbformat_minor": 4
}
